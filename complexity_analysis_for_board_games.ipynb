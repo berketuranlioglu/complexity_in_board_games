{
 "cells": [
  {
   "cell_type": "markdown",
   "id": "similar-cologne",
   "metadata": {},
   "source": [
    "# Complexity Analysis of Board Games' Rulebooks"
   ]
  },
  {
   "cell_type": "markdown",
   "id": "accompanied-blank",
   "metadata": {},
   "source": [
    "This project is aimed to predict the difficulty of the board games by their rulebooks' text analysis. Rulebooks dataset is gathered manually and games are selected randomly while the homogeneity of the difficulties are wanted to be kept. Rulebook text files are combined a priori with the metadata of the games that were fetched from BoardGameGeek's database with BGGXMLAPI2.\n",
    "\n",
    "Contents:\n",
    " 1. [Normalizing](#Normalizing)\n",
    " 2. [Analyzing the rulebooks](#Analyzing-the-rulebooks)\n",
    " 3. [Linear Regression](#Linear-Regression)\n",
    " 4. [Data below weight 4](#Data-below-weight-4)\n",
    " 5. [Predicting](#Predicting)"
   ]
  },
  {
   "cell_type": "code",
   "execution_count": 1,
   "id": "hundred-appointment",
   "metadata": {},
   "outputs": [],
   "source": [
    "import os\n",
    "import re\n",
    "import random\n",
    "from tqdm.notebook import tqdm\n",
    "from math import sqrt\n",
    "import matplotlib.pyplot as plt\n",
    "import numpy as np\n",
    "from scipy.stats import linregress\n",
    "from lexicalrichness import LexicalRichness\n",
    "import hyphenate\n",
    "import nltk\n",
    "from string import punctuation\n",
    "from bs4 import BeautifulSoup"
   ]
  },
  {
   "cell_type": "code",
   "execution_count": 2,
   "id": "alone-treasurer",
   "metadata": {},
   "outputs": [],
   "source": [
    "folder = \"/Users/berket/Desktop/UNIMI/Info. Retrieval/Final Project/Data/XMLs\"\n",
    "files = [f for f in os.listdir(folder) if f.endswith('.xml')]"
   ]
  },
  {
   "cell_type": "code",
   "execution_count": 3,
   "id": "suspended-toner",
   "metadata": {},
   "outputs": [],
   "source": [
    "games = []\n",
    "for file in files:\n",
    "    with open(os.path.join(folder, file), 'r') as data:\n",
    "        games.append(data.read())"
   ]
  },
  {
   "cell_type": "code",
   "execution_count": 4,
   "id": "corporate-collective",
   "metadata": {},
   "outputs": [
    {
     "data": {
      "text/plain": [
       "85"
      ]
     },
     "execution_count": 4,
     "metadata": {},
     "output_type": "execute_result"
    }
   ],
   "source": [
    "len(games)"
   ]
  },
  {
   "cell_type": "code",
   "execution_count": 5,
   "id": "fuzzy-parish",
   "metadata": {},
   "outputs": [
    {
     "name": "stdout",
     "output_type": "stream",
     "text": [
      "Sword & Sorcery\n",
      "4.0679\n",
      "Infidel\n",
      "2.9038\n",
      "Space Empires 4X\n",
      "3.3826\n",
      "Pax Baltica\n",
      "2.96\n",
      "All Bridges Burning: Red Revolt and White Guard in Finland, 1917-1918\n",
      "3.4783\n",
      "Pax Romana\n",
      "3.6689\n",
      "Trickerion: Legends of Illusion\n",
      "4.2232\n",
      "Virgin Queen\n",
      "4.4183\n",
      "Kingdomino\n",
      "1.2166\n",
      "1817\n",
      "4.7407\n",
      "Medieval\n",
      "2.4074\n",
      "Von Manstein's Backhand Blow\n",
      "3.1316\n",
      "Food Chain Magnate\n",
      "4.2064\n",
      "Commands & Colors: Ancients\n",
      "2.691\n",
      "Iron and Oak\n",
      "2.5938\n",
      "Risorgimento 1859: the Second Italian War of Independence\n",
      "3.3\n",
      "Die Macher\n",
      "4.3211\n",
      "Dominant Species\n",
      "4.0426\n",
      "Kutuzov\n",
      "3.3878\n",
      "Carcassonne\n",
      "1.9039\n",
      "Cerebria: The Inside World\n",
      "4.3365\n",
      "Labyrinth: The War on Terror, 2001 – ?\n",
      "3.6319\n",
      "Secret Hitler\n",
      "1.6734\n",
      "Monopoly\n",
      "1.6349\n",
      "Hellenes: Campaigns of the Peloponnesian War\n",
      "3\n",
      "Vinhos\n",
      "4.2113\n",
      "Pacific Typhoon\n",
      "2.0169\n",
      "The Colonists\n",
      "4.0776\n",
      "Stalin's War\n",
      "3.1429\n",
      "The Gallerist\n",
      "4.2647\n",
      "Pendragon: The Fall of Roman Britain\n",
      "4.4752\n",
      "Unhappy King Charles!\n",
      "3.3145\n",
      "Century: Spice Road\n",
      "1.7856\n",
      "Dungeon Mayhem\n",
      "1.1176\n",
      "Sagrada\n",
      "1.9234\n",
      "Gloomhaven\n",
      "3.8776\n",
      "Santorini\n",
      "1.7346\n",
      "Corsairs and Hellcats\n",
      "2.1622\n",
      "Battle Line\n",
      "1.8996\n",
      "Clank!: A Deck-Building Adventure\n",
      "2.2195\n",
      "Cuba Libre\n",
      "3.5519\n",
      "On Mars\n",
      "4.654\n",
      "Ivanhoe\n",
      "1.6103\n",
      "Wingspan\n",
      "2.4442\n",
      "Fading Glory\n",
      "2.5846\n",
      "A Distant Plain\n",
      "3.8248\n",
      "Isle of Skye: From Chieftain to King\n",
      "2.25\n",
      "Saboteur\n",
      "1.3247\n",
      "Crokinole\n",
      "1.2472\n",
      "Azul\n",
      "1.765\n",
      "King of Tokyo\n",
      "1.4893\n",
      "Mr. Madison's War: The Incredible War of 1812\n",
      "2.7442\n",
      "Jaipur\n",
      "1.4767\n",
      "Spyfall\n",
      "1.2368\n",
      "Manifest Destiny\n",
      "3.1928\n",
      "Coup\n",
      "1.4114\n",
      "Europe Engulfed: WWII European Theatre Block Game\n",
      "3.7733\n",
      "Roads & Boats\n",
      "4.1872\n",
      "Glory III\n",
      "2.7568\n",
      "Lisboa\n",
      "4.5684\n",
      "Liberty or Death: The American Insurrection\n",
      "4.088\n",
      "Century: Golem Edition\n",
      "1.6842\n",
      "Mage Knight Board Game\n",
      "4.3333\n",
      "7 Wonders\n",
      "2.3247\n",
      "Fantastic Factories\n",
      "2.1562\n",
      "Manoeuvre\n",
      "2.11\n",
      "Formula Motor Racing\n",
      "1.1762\n",
      "Pandemic\n",
      "2.4072\n",
      "Fire in the Lake\n",
      "4.1034\n",
      "For Sale\n",
      "1.2579\n",
      "Winds of Plunder\n",
      "2.3652\n",
      "Everdell\n",
      "2.8124\n",
      "Survive: Escape from Atlantis!\n",
      "1.701\n",
      "Flying Colors\n",
      "3.037\n",
      "Tigers in the Mist: Ardennes Offensive\n",
      "2.7\n",
      "Andean Abyss\n",
      "3.7908\n",
      "Potion Explosion\n",
      "1.7544\n",
      "Twilight Imperium: Third Edition\n",
      "4.2547\n",
      "Gandhi: The Decolonization of British India, 1917 – 1947\n",
      "4.1739\n",
      "World War II: Barbarossa to Berlin\n",
      "3.5333\n",
      "The Halls of Montezuma\n",
      "3.1395\n",
      "The Conquerors: Alexander the Great\n",
      "2.8387\n",
      "Kanban EV\n",
      "4.3525\n",
      "Colonial Twilight: The French-Algerian War, 1954-62\n",
      "3.8462\n",
      "Empire of the Sun\n",
      "4.3094\n"
     ]
    }
   ],
   "source": [
    "rb_texts_raw = []\n",
    "rb_texts = []\n",
    "game_names = []\n",
    "weight_list = []\n",
    "\n",
    "for i in range(len(games)):\n",
    "    soup = BeautifulSoup(games[i], 'xml')\n",
    "    rb_texts_raw.append(soup.find('rulebook').text)\n",
    "    rb_texts.append(soup.find('rulebook').text)\n",
    "    game_names.append(soup.find('name')['value'])\n",
    "    weight_list.append(float(soup.find('averageweight')['value']))\n",
    "    \n",
    "    print(soup.find('name')['value'])\n",
    "    print(soup.find('averageweight')['value'])"
   ]
  },
  {
   "cell_type": "markdown",
   "id": "julian-anatomy",
   "metadata": {},
   "source": [
    "## Normalizing\n",
    "\n",
    "Rulebooks texts are usually dirty and they need to be cleaned from unnecessary characters that may affect the final result"
   ]
  },
  {
   "cell_type": "code",
   "execution_count": 6,
   "id": "fitting-spiritual",
   "metadata": {},
   "outputs": [],
   "source": [
    "for i in range(len(rb_texts)):\n",
    "    rb_texts[i] = rb_texts[i].replace('\\n', '  ')\n",
    "    rb_texts[i] = rb_texts[i].replace('\\t', '')\n",
    "    rb_texts[i] = re.sub(r\"(@\\[A-Za-z0-9]+)|([^0-9A-Za-z \\t])|(\\w+:\\/\\/\\S+)|^rt|http.+?\", \"\", rb_texts[i])"
   ]
  },
  {
   "cell_type": "markdown",
   "id": "comfortable-strain",
   "metadata": {},
   "source": [
    "## Analyzing the rulebooks"
   ]
  },
  {
   "cell_type": "markdown",
   "id": "legislative-masters",
   "metadata": {},
   "source": [
    "### Vocabulary Richness"
   ]
  },
  {
   "cell_type": "markdown",
   "id": "established-shanghai",
   "metadata": {},
   "source": [
    "Vocabulary Richness will be calculated by Guiraud index. This index is used to understand or measure the lexical richness.\n",
    "\n",
    "<br>\n",
    "\n",
    "$$\n",
    "G = \\frac{V}{\\sqrt N}\n",
    "$$\n",
    "\n",
    "<br>\n",
    "\n",
    "- `V`: number of unique words\n",
    "- `N`: total number of words"
   ]
  },
  {
   "cell_type": "code",
   "execution_count": 7,
   "id": "ready-mountain",
   "metadata": {
    "scrolled": true
   },
   "outputs": [
    {
     "data": {
      "application/vnd.jupyter.widget-view+json": {
       "model_id": "87415787c8a043809ca375dd39e8d155",
       "version_major": 2,
       "version_minor": 0
      },
      "text/plain": [
       "  0%|          | 0/85 [00:00<?, ?it/s]"
      ]
     },
     "metadata": {},
     "output_type": "display_data"
    },
    {
     "name": "stdout",
     "output_type": "stream",
     "text": [
      "Number of unique terms: 2164\n",
      "Total number of words: 26492\n",
      "Vocabulary Richness of the rulebook by Guiraud Index: 13.2954\n",
      "\n",
      "Number of unique terms: 1409\n",
      "Total number of words: 12425\n",
      "Vocabulary Richness of the rulebook by Guiraud Index: 12.6405\n",
      "\n",
      "Number of unique terms: 1392\n",
      "Total number of words: 12586\n",
      "Vocabulary Richness of the rulebook by Guiraud Index: 12.4078\n",
      "\n",
      "Number of unique terms: 1256\n",
      "Total number of words: 10014\n",
      "Vocabulary Richness of the rulebook by Guiraud Index: 12.5512\n",
      "\n",
      "Number of unique terms: 1924\n",
      "Total number of words: 20185\n",
      "Vocabulary Richness of the rulebook by Guiraud Index: 13.5422\n",
      "\n",
      "Number of unique terms: 2625\n",
      "Total number of words: 35562\n",
      "Vocabulary Richness of the rulebook by Guiraud Index: 13.9199\n",
      "\n",
      "Number of unique terms: 1216\n",
      "Total number of words: 10321\n",
      "Vocabulary Richness of the rulebook by Guiraud Index: 11.9694\n",
      "\n",
      "Number of unique terms: 2408\n",
      "Total number of words: 39537\n",
      "Vocabulary Richness of the rulebook by Guiraud Index: 12.1103\n",
      "\n",
      "Number of unique terms: 276\n",
      "Total number of words: 964\n",
      "Vocabulary Richness of the rulebook by Guiraud Index: 8.8894\n",
      "\n",
      "Number of unique terms: 1737\n",
      "Total number of words: 16778\n",
      "Vocabulary Richness of the rulebook by Guiraud Index: 13.4100\n",
      "\n",
      "Number of unique terms: 1579\n",
      "Total number of words: 12958\n",
      "Vocabulary Richness of the rulebook by Guiraud Index: 13.8712\n",
      "\n",
      "Number of unique terms: 1166\n",
      "Total number of words: 6581\n",
      "Vocabulary Richness of the rulebook by Guiraud Index: 14.3732\n",
      "\n",
      "Number of unique terms: 1094\n",
      "Total number of words: 7877\n",
      "Vocabulary Richness of the rulebook by Guiraud Index: 12.3264\n",
      "\n",
      "Number of unique terms: 1246\n",
      "Total number of words: 17116\n",
      "Vocabulary Richness of the rulebook by Guiraud Index: 9.5239\n",
      "\n",
      "Number of unique terms: 1325\n",
      "Total number of words: 15375\n",
      "Vocabulary Richness of the rulebook by Guiraud Index: 10.6858\n",
      "\n",
      "Number of unique terms: 1780\n",
      "Total number of words: 13370\n",
      "Vocabulary Richness of the rulebook by Guiraud Index: 15.3941\n",
      "\n",
      "Number of unique terms: 1029\n",
      "Total number of words: 9327\n",
      "Vocabulary Richness of the rulebook by Guiraud Index: 10.6548\n",
      "\n",
      "Number of unique terms: 1161\n",
      "Total number of words: 9159\n",
      "Vocabulary Richness of the rulebook by Guiraud Index: 12.1313\n",
      "\n",
      "Number of unique terms: 2288\n",
      "Total number of words: 33149\n",
      "Vocabulary Richness of the rulebook by Guiraud Index: 12.5667\n",
      "\n",
      "Number of unique terms: 542\n",
      "Total number of words: 2484\n",
      "Vocabulary Richness of the rulebook by Guiraud Index: 10.8749\n",
      "\n",
      "Number of unique terms: 815\n",
      "Total number of words: 5944\n",
      "Vocabulary Richness of the rulebook by Guiraud Index: 10.5711\n",
      "\n",
      "Number of unique terms: 1419\n",
      "Total number of words: 12154\n",
      "Vocabulary Richness of the rulebook by Guiraud Index: 12.8713\n",
      "\n",
      "Number of unique terms: 703\n",
      "Total number of words: 2754\n",
      "Vocabulary Richness of the rulebook by Guiraud Index: 13.3959\n",
      "\n",
      "Number of unique terms: 589\n",
      "Total number of words: 2848\n",
      "Vocabulary Richness of the rulebook by Guiraud Index: 11.0369\n",
      "\n",
      "Number of unique terms: 2010\n",
      "Total number of words: 13791\n",
      "Vocabulary Richness of the rulebook by Guiraud Index: 17.1158\n",
      "\n",
      "Number of unique terms: 1160\n",
      "Total number of words: 12160\n",
      "Vocabulary Richness of the rulebook by Guiraud Index: 10.5194\n",
      "\n",
      "Number of unique terms: 1482\n",
      "Total number of words: 9874\n",
      "Vocabulary Richness of the rulebook by Guiraud Index: 14.9143\n",
      "\n",
      "Number of unique terms: 1309\n",
      "Total number of words: 14539\n",
      "Vocabulary Richness of the rulebook by Guiraud Index: 10.8561\n",
      "\n",
      "Number of unique terms: 1470\n",
      "Total number of words: 14850\n",
      "Vocabulary Richness of the rulebook by Guiraud Index: 12.0630\n",
      "\n",
      "Number of unique terms: 1209\n",
      "Total number of words: 11365\n",
      "Vocabulary Richness of the rulebook by Guiraud Index: 11.3407\n",
      "\n",
      "Number of unique terms: 2092\n",
      "Total number of words: 30476\n",
      "Vocabulary Richness of the rulebook by Guiraud Index: 11.9835\n",
      "\n",
      "Number of unique terms: 1943\n",
      "Total number of words: 20166\n",
      "Vocabulary Richness of the rulebook by Guiraud Index: 13.6824\n",
      "\n",
      "Number of unique terms: 301\n",
      "Total number of words: 1051\n",
      "Vocabulary Richness of the rulebook by Guiraud Index: 9.2846\n",
      "\n",
      "Number of unique terms: 364\n",
      "Total number of words: 1230\n",
      "Vocabulary Richness of the rulebook by Guiraud Index: 10.3788\n",
      "\n",
      "Number of unique terms: 533\n",
      "Total number of words: 2030\n",
      "Vocabulary Richness of the rulebook by Guiraud Index: 11.8298\n",
      "\n",
      "Number of unique terms: 2628\n",
      "Total number of words: 24940\n",
      "Vocabulary Richness of the rulebook by Guiraud Index: 16.6409\n",
      "\n",
      "Number of unique terms: 741\n",
      "Total number of words: 3745\n",
      "Vocabulary Richness of the rulebook by Guiraud Index: 12.1086\n",
      "\n",
      "Number of unique terms: 1388\n",
      "Total number of words: 11745\n",
      "Vocabulary Richness of the rulebook by Guiraud Index: 12.8075\n",
      "\n",
      "Number of unique terms: 425\n",
      "Total number of words: 1573\n",
      "Vocabulary Richness of the rulebook by Guiraud Index: 10.7158\n",
      "\n",
      "Number of unique terms: 816\n",
      "Total number of words: 4126\n",
      "Vocabulary Richness of the rulebook by Guiraud Index: 12.7036\n",
      "\n",
      "Number of unique terms: 1592\n",
      "Total number of words: 13083\n",
      "Vocabulary Richness of the rulebook by Guiraud Index: 13.9184\n",
      "\n",
      "Number of unique terms: 1614\n",
      "Total number of words: 14271\n",
      "Vocabulary Richness of the rulebook by Guiraud Index: 13.5107\n",
      "\n",
      "Number of unique terms: 455\n",
      "Total number of words: 2559\n",
      "Vocabulary Richness of the rulebook by Guiraud Index: 8.9945\n",
      "\n",
      "Number of unique terms: 758\n",
      "Total number of words: 4102\n",
      "Vocabulary Richness of the rulebook by Guiraud Index: 11.8351\n",
      "\n",
      "Number of unique terms: 1366\n",
      "Total number of words: 10436\n",
      "Vocabulary Richness of the rulebook by Guiraud Index: 13.3716\n",
      "\n",
      "Number of unique terms: 1500\n",
      "Total number of words: 12761\n",
      "Vocabulary Richness of the rulebook by Guiraud Index: 13.2785\n",
      "\n",
      "Number of unique terms: 340\n",
      "Total number of words: 1480\n",
      "Vocabulary Richness of the rulebook by Guiraud Index: 8.8379\n",
      "\n",
      "Number of unique terms: 408\n",
      "Total number of words: 1850\n",
      "Vocabulary Richness of the rulebook by Guiraud Index: 9.4858\n",
      "\n",
      "Number of unique terms: 262\n",
      "Total number of words: 846\n",
      "Vocabulary Richness of the rulebook by Guiraud Index: 9.0077\n",
      "\n",
      "Number of unique terms: 399\n",
      "Total number of words: 1875\n",
      "Vocabulary Richness of the rulebook by Guiraud Index: 9.2145\n",
      "\n",
      "Number of unique terms: 596\n",
      "Total number of words: 3202\n",
      "Vocabulary Richness of the rulebook by Guiraud Index: 10.5326\n",
      "\n",
      "Number of unique terms: 1584\n",
      "Total number of words: 16860\n",
      "Vocabulary Richness of the rulebook by Guiraud Index: 12.1991\n",
      "\n",
      "Number of unique terms: 358\n",
      "Total number of words: 1357\n",
      "Vocabulary Richness of the rulebook by Guiraud Index: 9.7184\n",
      "\n",
      "Number of unique terms: 601\n",
      "Total number of words: 1938\n",
      "Vocabulary Richness of the rulebook by Guiraud Index: 13.6520\n",
      "\n",
      "Number of unique terms: 953\n",
      "Total number of words: 7402\n",
      "Vocabulary Richness of the rulebook by Guiraud Index: 11.0769\n",
      "\n",
      "Number of unique terms: 172\n",
      "Total number of words: 541\n",
      "Vocabulary Richness of the rulebook by Guiraud Index: 7.3949\n",
      "\n",
      "Number of unique terms: 1883\n",
      "Total number of words: 20565\n",
      "Vocabulary Richness of the rulebook by Guiraud Index: 13.1306\n",
      "\n",
      "Number of unique terms: 1112\n",
      "Total number of words: 8276\n",
      "Vocabulary Richness of the rulebook by Guiraud Index: 12.2235\n",
      "\n",
      "Number of unique terms: 1257\n",
      "Total number of words: 10895\n",
      "Vocabulary Richness of the rulebook by Guiraud Index: 12.0426\n",
      "\n",
      "Number of unique terms: 1782\n",
      "Total number of words: 13540\n",
      "Vocabulary Richness of the rulebook by Guiraud Index: 15.3143\n",
      "\n",
      "Number of unique terms: 1660\n",
      "Total number of words: 24955\n",
      "Vocabulary Richness of the rulebook by Guiraud Index: 10.5082\n",
      "\n",
      "Number of unique terms: 337\n",
      "Total number of words: 1277\n",
      "Vocabulary Richness of the rulebook by Guiraud Index: 9.4305\n",
      "\n",
      "Number of unique terms: 1750\n",
      "Total number of words: 26760\n",
      "Vocabulary Richness of the rulebook by Guiraud Index: 10.6978\n",
      "\n",
      "Number of unique terms: 917\n",
      "Total number of words: 6757\n",
      "Vocabulary Richness of the rulebook by Guiraud Index: 11.1556\n",
      "\n",
      "Number of unique terms: 846\n",
      "Total number of words: 5163\n",
      "Vocabulary Richness of the rulebook by Guiraud Index: 11.7739\n",
      "\n",
      "Number of unique terms: 966\n",
      "Total number of words: 6388\n",
      "Vocabulary Richness of the rulebook by Guiraud Index: 12.0863\n",
      "\n",
      "Number of unique terms: 445\n",
      "Total number of words: 1874\n",
      "Vocabulary Richness of the rulebook by Guiraud Index: 10.2796\n",
      "\n",
      "Number of unique terms: 928\n",
      "Total number of words: 5252\n",
      "Vocabulary Richness of the rulebook by Guiraud Index: 12.8052\n",
      "\n",
      "Number of unique terms: 1901\n",
      "Total number of words: 23182\n",
      "Vocabulary Richness of the rulebook by Guiraud Index: 12.4855\n",
      "\n",
      "Number of unique terms: 274\n",
      "Total number of words: 1155\n",
      "Vocabulary Richness of the rulebook by Guiraud Index: 8.0623\n",
      "\n"
     ]
    },
    {
     "name": "stdout",
     "output_type": "stream",
     "text": [
      "Number of unique terms: 1285\n",
      "Total number of words: 8766\n",
      "Vocabulary Richness of the rulebook by Guiraud Index: 13.7247\n",
      "\n",
      "Number of unique terms: 901\n",
      "Total number of words: 4606\n",
      "Vocabulary Richness of the rulebook by Guiraud Index: 13.2759\n",
      "\n",
      "Number of unique terms: 467\n",
      "Total number of words: 3115\n",
      "Vocabulary Richness of the rulebook by Guiraud Index: 8.3673\n",
      "\n",
      "Number of unique terms: 1798\n",
      "Total number of words: 19053\n",
      "Vocabulary Richness of the rulebook by Guiraud Index: 13.0259\n",
      "\n",
      "Number of unique terms: 1754\n",
      "Total number of words: 10807\n",
      "Vocabulary Richness of the rulebook by Guiraud Index: 16.8724\n",
      "\n",
      "Number of unique terms: 1479\n",
      "Total number of words: 13662\n",
      "Vocabulary Richness of the rulebook by Guiraud Index: 12.6535\n",
      "\n",
      "Number of unique terms: 916\n",
      "Total number of words: 3874\n",
      "Vocabulary Richness of the rulebook by Guiraud Index: 14.7169\n",
      "\n",
      "Number of unique terms: 2583\n",
      "Total number of words: 28000\n",
      "Vocabulary Richness of the rulebook by Guiraud Index: 15.4364\n",
      "\n",
      "Number of unique terms: 1715\n",
      "Total number of words: 25683\n",
      "Vocabulary Richness of the rulebook by Guiraud Index: 10.7014\n",
      "\n",
      "Number of unique terms: 1533\n",
      "Total number of words: 16550\n",
      "Vocabulary Richness of the rulebook by Guiraud Index: 11.9163\n",
      "\n",
      "Number of unique terms: 2849\n",
      "Total number of words: 21072\n",
      "Vocabulary Richness of the rulebook by Guiraud Index: 19.6264\n",
      "\n",
      "Number of unique terms: 1946\n",
      "Total number of words: 17927\n",
      "Vocabulary Richness of the rulebook by Guiraud Index: 14.5341\n",
      "\n",
      "Number of unique terms: 1561\n",
      "Total number of words: 13132\n",
      "Vocabulary Richness of the rulebook by Guiraud Index: 13.6219\n",
      "\n",
      "Number of unique terms: 1676\n",
      "Total number of words: 15553\n",
      "Vocabulary Richness of the rulebook by Guiraud Index: 13.4390\n",
      "\n",
      "Number of unique terms: 2902\n",
      "Total number of words: 43636\n",
      "Vocabulary Richness of the rulebook by Guiraud Index: 13.8923\n",
      "\n"
     ]
    }
   ],
   "source": [
    "guiraud_list = []\n",
    "\n",
    "for i in tqdm(range(len(rb_texts))):\n",
    "    v = LexicalRichness(rb_texts[i]).terms\n",
    "    n = LexicalRichness(rb_texts[i]).words\n",
    "    guiraud = LexicalRichness(rb_texts[i]).rttr\n",
    "    guiraud_list.append(LexicalRichness(rb_texts[i]).rttr)\n",
    "    \n",
    "    print('Number of unique terms: {}'.format(v))\n",
    "    print('Total number of words: {}'.format(n))\n",
    "    print('Vocabulary Richness of the rulebook by Guiraud Index: {:.4f}'.format(guiraud))\n",
    "    print()"
   ]
  },
  {
   "cell_type": "code",
   "execution_count": 8,
   "id": "typical-pendant",
   "metadata": {},
   "outputs": [
    {
     "data": {
      "image/png": "[encoded data removed]",
      "text/plain": [
       "<Figure size 432x432 with 1 Axes>"
      ]
     },
     "metadata": {
      "needs_background": "light"
     },
     "output_type": "display_data"
    }
   ],
   "source": [
    "x = guiraud_list\n",
    "y = weight_list\n",
    "\n",
    "fig, ax = plt.subplots(figsize = (6, 6))\n",
    "ax.scatter(x, y, s=60, alpha=0.7, c=\"g\")\n",
    "plt.title('Weight over Guiraud Index')\n",
    "plt.show()"
   ]
  },
  {
   "cell_type": "markdown",
   "id": "pending-instrumentation",
   "metadata": {},
   "source": [
    "### Complexity of text"
   ]
  },
  {
   "cell_type": "markdown",
   "id": "cognitive-despite",
   "metadata": {},
   "source": [
    "Complexity of text is calculated by *Gunning Fog Index*. In short description, it measures the readability of the given text.\n",
    "\n",
    "<br>\n",
    "\n",
    "$$\n",
    "F = 0.4 \\biggl(\\frac{W}{S} +100 \\frac{CW}{W} \\biggl)\n",
    "$$\n",
    "\n",
    "<br>\n",
    "\n",
    "- `W`: number of tokenized words\n",
    "- `S`: number of sentences\n",
    "- `CW`: number of tokenized complex words, which have more than 3 syllables"
   ]
  },
  {
   "cell_type": "code",
   "execution_count": 9,
   "id": "political-cinema",
   "metadata": {},
   "outputs": [],
   "source": [
    "nltk_tokenize = lambda text: [x.lower() for x in nltk.word_tokenize(text) if x not in punctuation]"
   ]
  },
  {
   "cell_type": "code",
   "execution_count": 10,
   "id": "external-alaska",
   "metadata": {},
   "outputs": [],
   "source": [
    "def fog(w, s, cw):\n",
    "    if s != 0 and w != 0:\n",
    "        return 0.4 * ((w / s) + 100 * (cw / w))\n",
    "    else:\n",
    "        return 0"
   ]
  },
  {
   "cell_type": "code",
   "execution_count": 11,
   "id": "dental-george",
   "metadata": {},
   "outputs": [
    {
     "data": {
      "application/vnd.jupyter.widget-view+json": {
       "model_id": "a33483bd105543d2afb2f0db5454465e",
       "version_major": 2,
       "version_minor": 0
      },
      "text/plain": [
       "  0%|          | 0/85 [00:00<?, ?it/s]"
      ]
     },
     "metadata": {},
     "output_type": "display_data"
    },
    {
     "name": "stdout",
     "output_type": "stream",
     "text": [
      "Name of the game: Sword & Sorcery\n",
      "Number of words: 26492\n",
      "Number of sentences: 4361\n",
      "Number of complex words: 2983\n",
      "Gunning Fog Index is: 6.9339\n",
      "Weight of the game: 4.0679\n",
      "\n",
      "Name of the game: Space Empires 4X\n",
      "Number of words: 12586\n",
      "Number of sentences: 1439\n",
      "Number of complex words: 1306\n",
      "Gunning Fog Index is: 7.6492\n",
      "Weight of the game: 3.3826\n",
      "\n",
      "Name of the game: All Bridges Burning: Red Revolt and White Guard in Finland, 1917-1918\n",
      "Number of words: 20185\n",
      "Number of sentences: 2680\n",
      "Number of complex words: 2805\n",
      "Gunning Fog Index is: 8.5713\n",
      "Weight of the game: 3.4783\n",
      "\n",
      "Name of the game: Pax Romana\n",
      "Number of words: 35562\n",
      "Number of sentences: 3731\n",
      "Number of complex words: 3819\n",
      "Gunning Fog Index is: 8.1082\n",
      "Weight of the game: 3.6689\n",
      "\n",
      "Name of the game: Trickerion: Legends of Illusion\n",
      "Number of words: 10321\n",
      "Number of sentences: 1437\n",
      "Number of complex words: 1151\n",
      "Gunning Fog Index is: 7.3337\n",
      "Weight of the game: 4.2232\n",
      "\n",
      "Name of the game: Virgin Queen\n",
      "Number of words: 39537\n",
      "Number of sentences: 4373\n",
      "Number of complex words: 4078\n",
      "Gunning Fog Index is: 7.7422\n",
      "Weight of the game: 4.4183\n",
      "\n",
      "Name of the game: 1817\n",
      "Number of words: 16778\n",
      "Number of sentences: 2034\n",
      "Number of complex words: 2004\n",
      "Gunning Fog Index is: 8.0772\n",
      "Weight of the game: 4.7407\n",
      "\n",
      "Name of the game: Von Manstein's Backhand Blow\n",
      "Number of words: 6581\n",
      "Number of sentences: 787\n",
      "Number of complex words: 974\n",
      "Gunning Fog Index is: 9.2649\n",
      "Weight of the game: 3.1316\n",
      "\n",
      "Name of the game: Food Chain Magnate\n",
      "Number of words: 7877\n",
      "Number of sentences: 923\n",
      "Number of complex words: 604\n",
      "Gunning Fog Index is: 6.4808\n",
      "Weight of the game: 4.2064\n",
      "\n",
      "Name of the game: Risorgimento 1859: the Second Italian War of Independence\n",
      "Number of words: 13370\n",
      "Number of sentences: 2541\n",
      "Number of complex words: 1763\n",
      "Gunning Fog Index is: 7.3792\n",
      "Weight of the game: 3.3\n",
      "\n",
      "Name of the game: Die Macher\n",
      "Number of words: 9327\n",
      "Number of sentences: 1171\n",
      "Number of complex words: 749\n",
      "Gunning Fog Index is: 6.3982\n",
      "Weight of the game: 4.3211\n",
      "\n",
      "Name of the game: Dominant Species\n",
      "Number of words: 9159\n",
      "Number of sentences: 1245\n",
      "Number of complex words: 1094\n",
      "Gunning Fog Index is: 7.7205\n",
      "Weight of the game: 4.0426\n",
      "\n",
      "Name of the game: Kutuzov\n",
      "Number of words: 33149\n",
      "Number of sentences: 4153\n",
      "Number of complex words: 3903\n",
      "Gunning Fog Index is: 7.9024\n",
      "Weight of the game: 3.3878\n",
      "\n",
      "Name of the game: Cerebria: The Inside World\n",
      "Number of words: 5944\n",
      "Number of sentences: 653\n",
      "Number of complex words: 553\n",
      "Gunning Fog Index is: 7.3624\n",
      "Weight of the game: 4.3365\n",
      "\n",
      "Name of the game: Labyrinth: The War on Terror, 2001 – ?\n",
      "Number of words: 12154\n",
      "Number of sentences: 1539\n",
      "Number of complex words: 1203\n",
      "Gunning Fog Index is: 7.1181\n",
      "Weight of the game: 3.6319\n",
      "\n",
      "Name of the game: Vinhos\n",
      "Number of words: 12160\n",
      "Number of sentences: 1599\n",
      "Number of complex words: 823\n",
      "Gunning Fog Index is: 5.7491\n",
      "Weight of the game: 4.2113\n",
      "\n",
      "Name of the game: The Colonists\n",
      "Number of words: 14539\n",
      "Number of sentences: 2188\n",
      "Number of complex words: 1467\n",
      "Gunning Fog Index is: 6.6940\n",
      "Weight of the game: 4.0776\n",
      "\n",
      "Name of the game: Stalin's War\n",
      "Number of words: 14850\n",
      "Number of sentences: 1875\n",
      "Number of complex words: 1539\n",
      "Gunning Fog Index is: 7.3135\n",
      "Weight of the game: 3.1429\n",
      "\n",
      "Name of the game: The Gallerist\n",
      "Number of words: 11365\n",
      "Number of sentences: 1563\n",
      "Number of complex words: 1091\n",
      "Gunning Fog Index is: 6.7484\n",
      "Weight of the game: 4.2647\n",
      "\n",
      "Name of the game: Pendragon: The Fall of Roman Britain\n",
      "Number of words: 30476\n",
      "Number of sentences: 4260\n",
      "Number of complex words: 3733\n",
      "Gunning Fog Index is: 7.7612\n",
      "Weight of the game: 4.4752\n",
      "\n",
      "Name of the game: Unhappy King Charles!\n",
      "Number of words: 20166\n",
      "Number of sentences: 2893\n",
      "Number of complex words: 2651\n",
      "Gunning Fog Index is: 8.0466\n",
      "Weight of the game: 3.3145\n",
      "\n",
      "Name of the game: Gloomhaven\n",
      "Number of words: 24940\n",
      "Number of sentences: 4171\n",
      "Number of complex words: 2852\n",
      "Gunning Fog Index is: 6.9659\n",
      "Weight of the game: 3.8776\n",
      "\n",
      "Name of the game: Cuba Libre\n",
      "Number of words: 13083\n",
      "Number of sentences: 1783\n",
      "Number of complex words: 2271\n",
      "Gunning Fog Index is: 9.8784\n",
      "Weight of the game: 3.5519\n",
      "\n",
      "Name of the game: On Mars\n",
      "Number of words: 14271\n",
      "Number of sentences: 2050\n",
      "Number of complex words: 910\n",
      "Gunning Fog Index is: 5.3352\n",
      "Weight of the game: 4.654\n",
      "\n",
      "Name of the game: A Distant Plain\n",
      "Number of words: 12761\n",
      "Number of sentences: 1860\n",
      "Number of complex words: 2049\n",
      "Gunning Fog Index is: 9.1670\n",
      "Weight of the game: 3.8248\n",
      "\n",
      "Name of the game: Manifest Destiny\n",
      "Number of words: 7402\n",
      "Number of sentences: 873\n",
      "Number of complex words: 811\n",
      "Gunning Fog Index is: 7.7741\n",
      "Weight of the game: 3.1928\n",
      "\n",
      "Name of the game: Europe Engulfed: WWII European Theatre Block Game\n",
      "Number of words: 20565\n",
      "Number of sentences: 2178\n",
      "Number of complex words: 2214\n",
      "Gunning Fog Index is: 8.0832\n",
      "Weight of the game: 3.7733\n",
      "\n",
      "Name of the game: Roads & Boats\n",
      "Number of words: 8276\n",
      "Number of sentences: 1112\n",
      "Number of complex words: 501\n",
      "Gunning Fog Index is: 5.3984\n",
      "Weight of the game: 4.1872\n",
      "\n",
      "Name of the game: Lisboa\n",
      "Number of words: 13540\n",
      "Number of sentences: 2026\n",
      "Number of complex words: 1097\n",
      "Gunning Fog Index is: 5.9140\n",
      "Weight of the game: 4.5684\n",
      "\n",
      "Name of the game: Liberty or Death: The American Insurrection\n",
      "Number of words: 24955\n",
      "Number of sentences: 3460\n",
      "Number of complex words: 3711\n",
      "Gunning Fog Index is: 8.8333\n",
      "Weight of the game: 4.088\n",
      "\n",
      "Name of the game: Mage Knight Board Game\n",
      "Number of words: 26760\n",
      "Number of sentences: 3198\n",
      "Number of complex words: 1930\n",
      "Gunning Fog Index is: 6.2320\n",
      "Weight of the game: 4.3333\n",
      "\n",
      "Name of the game: Fire in the Lake\n",
      "Number of words: 23182\n",
      "Number of sentences: 2896\n",
      "Number of complex words: 2942\n",
      "Gunning Fog Index is: 8.2783\n",
      "Weight of the game: 4.1034\n",
      "\n",
      "Name of the game: Flying Colors\n",
      "Number of words: 19053\n",
      "Number of sentences: 2231\n",
      "Number of complex words: 2246\n",
      "Gunning Fog Index is: 8.1313\n",
      "Weight of the game: 3.037\n",
      "\n",
      "Name of the game: Andean Abyss\n",
      "Number of words: 13662\n",
      "Number of sentences: 1810\n",
      "Number of complex words: 2312\n",
      "Gunning Fog Index is: 9.7884\n",
      "Weight of the game: 3.7908\n",
      "\n",
      "Name of the game: Twilight Imperium: Third Edition\n",
      "Number of words: 28000\n",
      "Number of sentences: 3643\n",
      "Number of complex words: 3424\n",
      "Gunning Fog Index is: 7.9658\n",
      "Weight of the game: 4.2547\n",
      "\n",
      "Name of the game: Gandhi: The Decolonization of British India, 1917 – 1947\n",
      "Number of words: 25683\n",
      "Number of sentences: 3400\n",
      "Number of complex words: 3503\n",
      "Gunning Fog Index is: 8.4773\n",
      "Weight of the game: 4.1739\n",
      "\n",
      "Name of the game: World War II: Barbarossa to Berlin\n",
      "Number of words: 16550\n",
      "Number of sentences: 2020\n",
      "Number of complex words: 1558\n",
      "Gunning Fog Index is: 7.0428\n",
      "Weight of the game: 3.5333\n",
      "\n",
      "Name of the game: The Halls of Montezuma\n",
      "Number of words: 21072\n",
      "Number of sentences: 2302\n",
      "Number of complex words: 2535\n",
      "Gunning Fog Index is: 8.4736\n",
      "Weight of the game: 3.1395\n",
      "\n",
      "Name of the game: Kanban EV\n",
      "Number of words: 13132\n",
      "Number of sentences: 1807\n",
      "Number of complex words: 818\n",
      "Gunning Fog Index is: 5.3985\n",
      "Weight of the game: 4.3525\n",
      "\n",
      "Name of the game: Colonial Twilight: The French-Algerian War, 1954-62\n",
      "Number of words: 15553\n",
      "Number of sentences: 2103\n",
      "Number of complex words: 2281\n",
      "Gunning Fog Index is: 8.8246\n",
      "Weight of the game: 3.8462\n",
      "\n",
      "Name of the game: Empire of the Sun\n",
      "Number of words: 43636\n",
      "Number of sentences: 5680\n",
      "Number of complex words: 5321\n",
      "Gunning Fog Index is: 7.9506\n",
      "Weight of the game: 4.3094\n",
      "\n"
     ]
    }
   ],
   "source": [
    "fog_list = []\n",
    "sentences_list = []\n",
    "num_of_words_list = []\n",
    "complex_words_list = []\n",
    "\n",
    "for i in tqdm(range(len(games))):\n",
    "    soup = BeautifulSoup(games[i], 'xml')\n",
    "    name = soup.find('name')['value']\n",
    "    weight = float(soup.find('averageweight')['value'])\n",
    "    lex = LexicalRichness(rb_texts[i])\n",
    "\n",
    "    words = lex.words\n",
    "    temp_sentences = re.split('\\! |\\... |\\? |\\. |  ', rb_texts[i]) # separating the sentences to count\n",
    "    sentences = 0\n",
    "    for s in temp_sentences:\n",
    "        if len(s) > 3:\n",
    "            sentences += 1\n",
    "            \n",
    "    num_of_words_list.append(words)\n",
    "    sentences_list.append(sentences)\n",
    "\n",
    "    complex_words = 0\n",
    "    words_list = nltk_tokenize(rb_texts[i])\n",
    "\n",
    "    # a word is complex if it has at least three syllables\n",
    "    for word in words_list:\n",
    "        if len(hyphenate.hyphenate_word(word)) >= 3:\n",
    "            complex_words += 1\n",
    "    \n",
    "    complex_words_list.append(complex_words)\n",
    "    \n",
    "    fog_result = fog(words, sentences, complex_words)\n",
    "    fog_list.append(fog_result)\n",
    "    \n",
    "    output = 'Number of words: {}\\nNumber of sentences: {}\\nNumber of complex words: {}\\nGunning Fog Index is: {:.4f}'.format(words, sentences, complex_words, fog_result)\n",
    "    \n",
    "    if weight > 3:\n",
    "        print('Name of the game: {}'.format(name))        # name of the game \n",
    "        print(output)                                     # text statistics         \n",
    "        print('Weight of the game: {}'.format(weight))    # weight\n",
    "        print()"
   ]
  },
  {
   "cell_type": "code",
   "execution_count": 12,
   "id": "victorian-criminal",
   "metadata": {},
   "outputs": [
    {
     "data": {
      "image/png": "[encoded data removed]",
      "text/plain": [
       "<Figure size 432x432 with 1 Axes>"
      ]
     },
     "metadata": {
      "needs_background": "light"
     },
     "output_type": "display_data"
    }
   ],
   "source": [
    "x = fog_list\n",
    "y = weight_list\n",
    "\n",
    "fig, ax = plt.subplots(figsize = (6, 6))\n",
    "ax.scatter(x, y, s=60, alpha=0.7, c=\"g\")\n",
    "plt.title('Weight over Fog Index')\n",
    "plt.show()"
   ]
  },
  {
   "cell_type": "code",
   "execution_count": 13,
   "id": "turkish-guest",
   "metadata": {},
   "outputs": [
    {
     "data": {
      "image/png": "[encoded data removed]",
      "text/plain": [
       "<Figure size 432x432 with 1 Axes>"
      ]
     },
     "metadata": {
      "needs_background": "light"
     },
     "output_type": "display_data"
    }
   ],
   "source": [
    "x = num_of_words_list\n",
    "y = weight_list\n",
    "\n",
    "fig, ax = plt.subplots(figsize = (6, 6))\n",
    "ax.scatter(x, y, s=60, alpha=0.7, c=\"g\")\n",
    "plt.title('Weight over Number of Words')\n",
    "plt.show()"
   ]
  },
  {
   "cell_type": "code",
   "execution_count": 14,
   "id": "public-survivor",
   "metadata": {},
   "outputs": [
    {
     "data": {
      "image/png": "[encoded data removed]",
      "text/plain": [
       "<Figure size 432x432 with 1 Axes>"
      ]
     },
     "metadata": {
      "needs_background": "light"
     },
     "output_type": "display_data"
    }
   ],
   "source": [
    "x = complex_words_list\n",
    "y = weight_list\n",
    "\n",
    "fig, ax = plt.subplots(figsize = (6, 6))\n",
    "ax.scatter(x, y, s=60, alpha=0.7, c=\"g\")\n",
    "plt.title('Weight over Complex Words')\n",
    "plt.show()"
   ]
  },
  {
   "cell_type": "code",
   "execution_count": 15,
   "id": "external-destiny",
   "metadata": {},
   "outputs": [
    {
     "data": {
      "image/png": "[encoded data removed]",
      "text/plain": [
       "<Figure size 432x432 with 1 Axes>"
      ]
     },
     "metadata": {
      "needs_background": "light"
     },
     "output_type": "display_data"
    }
   ],
   "source": [
    "x = sentences_list\n",
    "y = weight_list\n",
    "\n",
    "fig, ax = plt.subplots(figsize = (6, 6))\n",
    "ax.scatter(x, y, s=60, alpha=0.7, c=\"g\")\n",
    "plt.title('Weight over Number of Sentences')\n",
    "plt.show()"
   ]
  },
  {
   "cell_type": "markdown",
   "id": "ahead-advertiser",
   "metadata": {},
   "source": [
    "## Linear Regression"
   ]
  },
  {
   "cell_type": "markdown",
   "id": "spread-thing",
   "metadata": {},
   "source": [
    "[Linear Regression with Least Squares Method of SciPy library](https://docs.scipy.org/doc/scipy/reference/generated/scipy.stats.linregress.html) is used. Each metrics' regression values calculated afterwards to measure graphs and correlations."
   ]
  },
  {
   "cell_type": "code",
   "execution_count": 16,
   "id": "relative-legislature",
   "metadata": {},
   "outputs": [],
   "source": [
    "slope1, intercept1, r1, p1, std_err1 = linregress(fog_list, weight_list)\n",
    "slope2, intercept2, r2, p2, std_err2 = linregress(guiraud_list, weight_list)\n",
    "slope3, intercept3, r3, p3, std_err3 = linregress(num_of_words_list, weight_list)\n",
    "slope4, intercept4, r4, p4, std_err4 = linregress(sentences_list, weight_list)\n",
    "slope5, intercept5, r5, p5, std_err5 = linregress(complex_words_list, weight_list)"
   ]
  },
  {
   "cell_type": "code",
   "execution_count": 17,
   "id": "nearby-thermal",
   "metadata": {},
   "outputs": [],
   "source": [
    "def fog2weight(var):\n",
    "    return slope1 * var + intercept1\n",
    "def guiraud2weight(var):\n",
    "    return slope2 * var + intercept2\n",
    "def words2weight(var):\n",
    "    return slope3 * var + intercept3\n",
    "def sentences2weight(var):\n",
    "    return slope4 * var + intercept4\n",
    "def complex2weight(var):\n",
    "    return slope5 * var + intercept5"
   ]
  },
  {
   "cell_type": "code",
   "execution_count": 18,
   "id": "different-moderator",
   "metadata": {},
   "outputs": [],
   "source": [
    "pred_by_fog = list(map(fog2weight, fog_list))\n",
    "pred_by_guiraud = list(map(guiraud2weight, guiraud_list))\n",
    "pred_by_words = list(map(words2weight, num_of_words_list))\n",
    "pred_by_sentences = list(map(sentences2weight, sentences_list))\n",
    "pred_by_complex = list(map(complex2weight, complex_words_list))"
   ]
  },
  {
   "cell_type": "markdown",
   "id": "married-satisfaction",
   "metadata": {},
   "source": [
    "### Analyzing with Graphs"
   ]
  },
  {
   "cell_type": "code",
   "execution_count": 38,
   "id": "smoking-copying",
   "metadata": {},
   "outputs": [
    {
     "data": {
      "image/png": "[encoded data removed]",
      "text/plain": [
       "<Figure size 1080x864 with 5 Axes>"
      ]
     },
     "metadata": {
      "needs_background": "light"
     },
     "output_type": "display_data"
    }
   ],
   "source": [
    "fig, axs = plt.subplots(2, 3, figsize=(15,12))\n",
    "axs[0, 0].scatter(fog_list, weight_list, c='g')\n",
    "axs[0, 0].plot(fog_list, pred_by_fog, color='b', linewidth=1)\n",
    "axs[0, 0].set_title('Fog index')\n",
    "\n",
    "axs[0, 1].scatter(guiraud_list, weight_list, c='g')\n",
    "axs[0, 1].plot(guiraud_list, pred_by_guiraud, color='b', linewidth=1)\n",
    "axs[0, 1].set_title('Guiraud index')\n",
    "\n",
    "axs[0, 2].scatter(num_of_words_list, weight_list, c='g')\n",
    "axs[0, 2].plot(num_of_words_list, pred_by_words, color='b', linewidth=1)\n",
    "axs[0, 2].set_title('Number of words')\n",
    "\n",
    "axs[1, 0].scatter(sentences_list, weight_list, c='g')\n",
    "axs[1, 0].plot(sentences_list, pred_by_sentences, color='b', linewidth=1)\n",
    "axs[1, 0].set_title('Number of sentences')\n",
    "\n",
    "axs[1, 1].scatter(complex_words_list, weight_list, c='g')\n",
    "axs[1, 1].plot(complex_words_list, pred_by_complex, color='b', linewidth=1)\n",
    "axs[1, 1].set_title('Number of complex words')\n",
    "\n",
    "fig.delaxes(axs[1,2])\n",
    "plt.savefig('plots.jpg')\n",
    "plt.show()"
   ]
  },
  {
   "cell_type": "code",
   "execution_count": 20,
   "id": "premier-copying",
   "metadata": {},
   "outputs": [
    {
     "name": "stdout",
     "output_type": "stream",
     "text": [
      "By Fog index, coefficient of determination is 0.4644\n",
      "By Guiraud index, coefficient of determination is 0.3871\n",
      "By the number of words, coefficient of determination is 0.7052\n",
      "By the number of sentences, coefficient of determination is 0.7174\n",
      "By the number of complex words, coefficient of determination is 0.6698\n"
     ]
    }
   ],
   "source": [
    "print(\"By Fog index, coefficient of determination is {:.4f}\".format(r1))\n",
    "print(\"By Guiraud index, coefficient of determination is {:.4f}\".format(r2))\n",
    "print(\"By the number of words, coefficient of determination is {:.4f}\".format(r3))\n",
    "print(\"By the number of sentences, coefficient of determination is {:.4f}\".format(r4))\n",
    "print(\"By the number of complex words, coefficient of determination is {:.4f}\".format(r5))"
   ]
  },
  {
   "cell_type": "markdown",
   "id": "hungry-valentine",
   "metadata": {},
   "source": [
    "Unfortunately, Guiraud Index gives the worst correlation with the data. Thus, it is not possible to use this index to calculate the complexity. The surprising fact is that coefficient of determination of Fog Index is almost 0.5 while the inner parts of the index has high results such as words, sentences, and complex words. It is wiser to use higher three aspects instead of Fog Index as well."
   ]
  },
  {
   "cell_type": "markdown",
   "id": "sealed-ticket",
   "metadata": {},
   "source": [
    "Worth to mention, data points are sort of broken when it gets harder and harder (especially after the weight 4). Most of the games that have the weight bigger than four are not getting along with the rest of the data as they should. Next section is to visualize it to understand better whether the statement is true."
   ]
  },
  {
   "cell_type": "markdown",
   "id": "everyday-macintosh",
   "metadata": {},
   "source": [
    "## Data below weight 4"
   ]
  },
  {
   "cell_type": "markdown",
   "id": "stuffed-macro",
   "metadata": {},
   "source": [
    "Data below weight 4 are believed to give better performance due to the peculiarity of the most difficult games. All metrics but Guiraud Index are calculated in this step. The reason why Guiraud Index is excluded because it most likely is not reversible from its result."
   ]
  },
  {
   "cell_type": "code",
   "execution_count": 21,
   "id": "southwest-mitchell",
   "metadata": {},
   "outputs": [],
   "source": [
    "sub_weight_list = []\n",
    "sub_fog_list = []\n",
    "sub_words_list = []\n",
    "sub_sentences_list = []\n",
    "sub_complex_list = []\n",
    "\n",
    "for i in range(len(weight_list)):\n",
    "    if weight_list[i] < 4:\n",
    "        sub_weight_list.append(weight_list[i])\n",
    "        sub_fog_list.append(fog_list[i])\n",
    "        sub_words_list.append(num_of_words_list[i])\n",
    "        sub_sentences_list.append(sentences_list[i])\n",
    "        sub_complex_list.append(complex_words_list[i])"
   ]
  },
  {
   "cell_type": "code",
   "execution_count": 22,
   "id": "under-contest",
   "metadata": {},
   "outputs": [],
   "source": [
    "slope6, intercept6, r6, p6, std_err6 = linregress(sub_fog_list, sub_weight_list)\n",
    "slope7, intercept7, r7, p7, std_err7 = linregress(sub_words_list, sub_weight_list)\n",
    "slope8, intercept8, r8, p8, std_err8 = linregress(sub_sentences_list, sub_weight_list)\n",
    "slope9, intercept9, r9, p9, std_err9 = linregress(sub_complex_list, sub_weight_list)"
   ]
  },
  {
   "cell_type": "code",
   "execution_count": 23,
   "id": "loaded-crack",
   "metadata": {},
   "outputs": [],
   "source": [
    "def subfog2weight(var):\n",
    "    return slope6 * var + intercept6\n",
    "def subwords2weight(var):\n",
    "    return slope7 * var + intercept7\n",
    "def subsentences2weight(var):\n",
    "    return slope8 * var + intercept8\n",
    "def subcomplex2weight(var):\n",
    "    return slope9 * var + intercept9"
   ]
  },
  {
   "cell_type": "code",
   "execution_count": 24,
   "id": "reserved-brass",
   "metadata": {},
   "outputs": [],
   "source": [
    "pred_by_sub_fog = list(map(subfog2weight, sub_fog_list))\n",
    "pred_by_sub_words = list(map(subwords2weight, sub_words_list))\n",
    "pred_by_sub_sentences = list(map(subsentences2weight, sub_sentences_list))\n",
    "pred_by_sub_complex = list(map(subcomplex2weight, sub_complex_list))"
   ]
  },
  {
   "cell_type": "code",
   "execution_count": 25,
   "id": "parliamentary-mining",
   "metadata": {},
   "outputs": [
    {
     "data": {
      "image/png": "[encoded data removed]",
      "text/plain": [
       "<Figure size 1080x864 with 4 Axes>"
      ]
     },
     "metadata": {
      "needs_background": "light"
     },
     "output_type": "display_data"
    }
   ],
   "source": [
    "fig, axs = plt.subplots(2, 2, figsize=(15,12))\n",
    "axs[0, 0].scatter(sub_fog_list, sub_weight_list, c='g')\n",
    "axs[0, 0].plot(sub_fog_list, pred_by_sub_fog, color='b', linewidth=1)\n",
    "axs[0, 0].set_title('Fog index')\n",
    "\n",
    "axs[0, 1].scatter(sub_words_list, sub_weight_list, c='g')\n",
    "axs[0, 1].plot(sub_words_list, pred_by_sub_words, color='b', linewidth=1)\n",
    "axs[0, 1].set_title('Number of words')\n",
    "\n",
    "axs[1, 0].scatter(sub_sentences_list, sub_weight_list, c='g')\n",
    "axs[1, 0].plot(sub_sentences_list, pred_by_sub_sentences, color='b', linewidth=1)\n",
    "axs[1, 0].set_title('Number of sentences')\n",
    "\n",
    "axs[1, 1].scatter(sub_complex_list, sub_weight_list, c='g')\n",
    "axs[1, 1].plot(sub_complex_list, pred_by_sub_complex, color='b', linewidth=1)\n",
    "axs[1, 1].set_title('Number of complex words')\n",
    "plt.show()"
   ]
  },
  {
   "cell_type": "code",
   "execution_count": 26,
   "id": "interracial-programmer",
   "metadata": {},
   "outputs": [
    {
     "name": "stdout",
     "output_type": "stream",
     "text": [
      "For the games that have weights below 4:\n",
      "By Fog index, coefficient of determination is 0.6894\n",
      "By the number of words, coefficient of determination is 0.8049\n",
      "By the number of sentences, coefficient of determination is 0.8210\n",
      "By the number of complex words, coefficient of determination is 0.8487\n"
     ]
    }
   ],
   "source": [
    "print(\"For the games that have weights below 4:\")\n",
    "print(\"By Fog index, coefficient of determination is {:.4f}\".format(r6))\n",
    "print(\"By the number of words, coefficient of determination is {:.4f}\".format(r7))\n",
    "print(\"By the number of sentences, coefficient of determination is {:.4f}\".format(r8))\n",
    "print(\"By the number of complex words, coefficient of determination is {:.4f}\".format(r9))"
   ]
  },
  {
   "cell_type": "markdown",
   "id": "funny-confirmation",
   "metadata": {},
   "source": [
    "Turns out that even Fog Index got a better result with the games that have the weight less than 4. Hence, we can expect the prediction will give better results for the games that are in this part of complexity, while it might get frustrated with the games with weight bigger than 4."
   ]
  },
  {
   "cell_type": "markdown",
   "id": "attractive-bishop",
   "metadata": {},
   "source": [
    "## Predicting"
   ]
  },
  {
   "cell_type": "code",
   "execution_count": 27,
   "id": "preceding-thunder",
   "metadata": {},
   "outputs": [],
   "source": [
    "games_pred = random.sample(games, 10)"
   ]
  },
  {
   "cell_type": "code",
   "execution_count": 28,
   "id": "premium-bobby",
   "metadata": {},
   "outputs": [],
   "source": [
    "test_games_parts = []\n",
    "test_games_pred = []\n",
    "test_game_names = []\n",
    "test_weight_list = []\n",
    "\n",
    "for i in range(len(games_pred)):\n",
    "    soup = BeautifulSoup(games_pred[i], 'xml')\n",
    "    test_games_parts.append(soup.find('rulebook').text)\n",
    "    test_games_pred.append(soup.find('rulebook').text)\n",
    "    test_game_names.append(soup.find('name')['value'])\n",
    "    test_weight_list.append(float(soup.find('averageweight')['value']))"
   ]
  },
  {
   "cell_type": "code",
   "execution_count": 29,
   "id": "requested-snowboard",
   "metadata": {},
   "outputs": [
    {
     "name": "stdout",
     "output_type": "stream",
     "text": [
      "Spyfall\n",
      "1.2368\n",
      "Sagrada\n",
      "1.9234\n",
      "Glory III\n",
      "2.7568\n",
      "Kutuzov\n",
      "3.3878\n",
      "Century: Golem Edition\n",
      "1.6842\n",
      "Sword & Sorcery\n",
      "4.0679\n",
      "Roads & Boats\n",
      "4.1872\n",
      "Winds of Plunder\n",
      "2.3652\n",
      "World War II: Barbarossa to Berlin\n",
      "3.5333\n",
      "Ivanhoe\n",
      "1.6103\n"
     ]
    }
   ],
   "source": [
    "for i in range(len(test_game_names)):\n",
    "    print(test_game_names[i])\n",
    "    print(test_weight_list[i])"
   ]
  },
  {
   "cell_type": "code",
   "execution_count": 30,
   "id": "preliminary-staff",
   "metadata": {},
   "outputs": [],
   "source": [
    "for i in range(len(test_games_pred)):\n",
    "    test_games_pred[i] = test_games_pred[i].replace('\\n', '  ')\n",
    "    test_games_pred[i] = test_games_pred[i].replace('\\t', '')\n",
    "    test_games_pred[i] = re.sub(r\"(@\\[A-Za-z0-9]+)|([^0-9A-Za-z \\t])|(\\w+:\\/\\/\\S+)|^rt|http.+?\", \"\", test_games_pred[i])\n",
    "    test_games_pred[i] = re.sub(\"1|2|3|4|5|6|7|8|9|0\", \"\", test_games_pred[i])"
   ]
  },
  {
   "cell_type": "code",
   "execution_count": 31,
   "id": "parental-angle",
   "metadata": {},
   "outputs": [],
   "source": [
    "test_num_of_words_list = []\n",
    "test_complex_words_list = []\n",
    "test_sentences_list = []\n",
    "\n",
    "for i in range(len(test_games_pred)):    \n",
    "    lex = LexicalRichness(test_games_pred[i])\n",
    "    words = lex.words\n",
    "    temp_sentences = re.split('\\! |\\... |\\? |\\. |  ', test_games_pred[i]) # separating the sentences to count\n",
    "    sentences = 0\n",
    "    for s in temp_sentences:\n",
    "        if len(s) > 3:\n",
    "            sentences += 1\n",
    "    complex_words = 0\n",
    "    words_list = nltk_tokenize(test_games_pred[i])\n",
    "\n",
    "    # a word is complex if it has at least three syllables\n",
    "    for word in words_list:\n",
    "        if len(hyphenate.hyphenate_word(word)) >= 3:\n",
    "            complex_words += 1\n",
    "            \n",
    "    test_num_of_words_list.append(words)\n",
    "    test_complex_words_list.append(complex_words)\n",
    "    test_sentences_list.append(sentences)"
   ]
  },
  {
   "cell_type": "code",
   "execution_count": 32,
   "id": "acquired-latex",
   "metadata": {},
   "outputs": [],
   "source": [
    "prediction_words = []\n",
    "prediction_complex = []\n",
    "prediction_sentences = []\n",
    "\n",
    "for i in range(len(test_games_pred)):\n",
    "    prediction_words.append(words2weight(test_num_of_words_list[i]))\n",
    "    prediction_complex.append(complex2weight(test_complex_words_list[i]))\n",
    "    prediction_sentences.append(sentences2weight(test_sentences_list[i]))"
   ]
  },
  {
   "cell_type": "code",
   "execution_count": 33,
   "id": "smart-villa",
   "metadata": {},
   "outputs": [],
   "source": [
    "final_pred = []\n",
    "for i in range(len(prediction_words)):\n",
    "    final_pred_formula = (prediction_words[i]*r3 + prediction_sentences[i]*r4 + prediction_complex[i]*r5) / (r3+r4+r5)\n",
    "    if(final_pred_formula >= 5):\n",
    "        final_pred_formula = 5\n",
    "    final_pred.append(final_pred_formula)"
   ]
  },
  {
   "cell_type": "code",
   "execution_count": 34,
   "id": "ready-synthesis",
   "metadata": {},
   "outputs": [
    {
     "name": "stdout",
     "output_type": "stream",
     "text": [
      "Final prediction: 2.1821 | Actual weight: 1.2368\n",
      "Final prediction: 2.2035 | Actual weight: 1.9234\n",
      "Final prediction: 2.8945 | Actual weight: 2.7568\n",
      "Final prediction: 4.7115 | Actual weight: 3.3878\n",
      "Final prediction: 2.1308 | Actual weight: 1.6842\n",
      "Final prediction: 4.3004 | Actual weight: 4.0679\n",
      "Final prediction: 2.6042 | Actual weight: 4.1872\n",
      "Final prediction: 2.6769 | Actual weight: 2.3652\n",
      "Final prediction: 3.2347 | Actual weight: 3.5333\n",
      "Final prediction: 2.2119 | Actual weight: 1.6103\n"
     ]
    }
   ],
   "source": [
    "for i in range(len(final_pred)):\n",
    "    print(\"Final prediction: {:.4f} | Actual weight: {:.4f}\".format(final_pred[i], test_weight_list[i]))"
   ]
  },
  {
   "cell_type": "markdown",
   "id": "circular-montreal",
   "metadata": {},
   "source": [
    "Turns out that the easiest games are predicted more than they actually are, which still cannot be considered as bad results since the calculated results are not far from the reality. Yet, it is understandable from their scatter plots and regression lines as well. Besides, other games are predicted better than the easiest games, except two of the hardest games. They could be the ones that act differently from the data itself. These fluctuations could be fixed with much more data since they could not be the only outliers."
   ]
  }
 ],
 "metadata": {
  "kernelspec": {
   "display_name": "Python 3",
   "language": "python",
   "name": "python3"
  },
  "language_info": {
   "codemirror_mode": {
    "name": "ipython",
    "version": 3
   },
   "file_extension": ".py",
   "mimetype": "text/x-python",
   "name": "python",
   "nbconvert_exporter": "python",
   "pygments_lexer": "ipython3",
   "version": "3.9.1"
  },
  "toc": {
   "base_numbering": 1,
   "nav_menu": {},
   "number_sections": true,
   "sideBar": true,
   "skip_h1_title": true,
   "title_cell": "Table of Contents",
   "title_sidebar": "Contents",
   "toc_cell": false,
   "toc_position": {
    "height": "calc(100% - 180px)",
    "left": "10px",
    "top": "150px",
    "width": "288px"
   },
   "toc_section_display": true,
   "toc_window_display": false
  },
  "varInspector": {
   "cols": {
    "lenName": 16,
    "lenType": 16,
    "lenVar": 40
   },
   "kernels_config": {
    "python": {
     "delete_cmd_postfix": "",
     "delete_cmd_prefix": "del ",
     "library": "var_list.py",
     "varRefreshCmd": "print(var_dic_list())"
    },
    "r": {
     "delete_cmd_postfix": ") ",
     "delete_cmd_prefix": "rm(",
     "library": "var_list.r",
     "varRefreshCmd": "cat(var_dic_list()) "
    }
   },
   "types_to_exclude": [
    "module",
    "function",
    "builtin_function_or_method",
    "instance",
    "_Feature"
   ],
   "window_display": false
  }
 },
 "nbformat": 4,
 "nbformat_minor": 5
}
